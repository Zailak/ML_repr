{
 "cells": [
  {
   "cell_type": "markdown",
   "metadata": {},
   "source": [
    "## Финальное соревнование\n",
    "\n",
    "##### Автор: [Радослав Нейчев](https://www.linkedin.com/in/radoslav-neychev/), @neychev"
   ]
  },
  {
   "cell_type": "markdown",
   "metadata": {},
   "source": [
    "В данном задании вас ждет неизвестная зависимость. Ваша основная задача: **построить две лучших модели**, минимизирующих среднеквадратичную ошибку (MSE):\n",
    "1. На первую модель не налагается ограничений.\n",
    "2. Вторая модель должна быть **линейной**, т.е. представлять собой линейную комбинацию признаков плюс свободный член: $\\boldsymbol{w}^{\\top}\\boldsymbol{x} + b$. При этом __вы можете использовать базовые математические операции для преобразования признаков__: np.exp, np.log, np.pow (полный список доступен в [документации](https://numpy.org/doc/stable/reference/routines.math.html)), а также линейные операции над ними (сумма, умножение на число и пр.). Для преобразования признаков вам будет необходимо написать функцию `my_transformation`. __Кол-во параметров (весов) используемых второй моделью не должно превышать 15 (включая свободный член).__\n",
    "\n",
    "Настоятельно рекомендуем написать код \"с нуля\", лишь поглядывая на готовые примеры, а не просто \"скопировать-вставить\". Это поможет вам в будущем писать код более уверенно"
   ]
  },
  {
   "cell_type": "code",
   "execution_count": 45,
   "metadata": {},
   "outputs": [],
   "source": [
    "import os\n",
    "import json\n",
    "\n",
    "import numpy as np\n",
    "from matplotlib import pyplot as plt\n",
    "from sklearn.linear_model import Ridge\n",
    "from sklearn.ensemble import RandomForestRegressor\n",
    "from sklearn.metrics import mean_squared_error\n",
    "from sklearn.model_selection import train_test_split"
   ]
  },
  {
   "cell_type": "markdown",
   "metadata": {},
   "source": [
    "Загрузка данных происходит ниже. Если она не срабатывает, самостоятельно скачайте файл `hw_final_open_data.npy` и положите его в ту же директорию, что и ноутбук."
   ]
  },
  {
   "cell_type": "code",
   "execution_count": 46,
   "metadata": {},
   "outputs": [],
   "source": [
    "assert os.path.exists('hw_final_open_data.npy'), 'Please, download `hw_final_open_data.npy` and place it in the working directory'\n",
    "assert os.path.exists('hw_final_open_target.npy'), 'Please, download `hw_final_open_target.npy` and place it in the working directory'\n",
    "data = np.load('hw_final_open_data.npy', allow_pickle=False)\n",
    "target = np.load('hw_final_open_target.npy', allow_pickle=False)"
   ]
  },
  {
   "cell_type": "markdown",
   "metadata": {},
   "source": [
    "Разбивка на `train` и `val` опциональна и сделана для вашего удобства."
   ]
  },
  {
   "cell_type": "code",
   "execution_count": 47,
   "metadata": {},
   "outputs": [],
   "source": [
    "train_x, valid_x, train_y, valid_y = train_test_split(data, target, test_size=0.3)"
   ]
  },
  {
   "cell_type": "code",
   "execution_count": 48,
   "metadata": {},
   "outputs": [],
   "source": [
    "closed_data = np.load('hw_final_closed_data.npy', allow_pickle=False)"
   ]
  },
  {
   "cell_type": "code",
   "execution_count": 52,
   "metadata": {},
   "outputs": [],
   "source": [
    "from sklearn.model_selection import GridSearchCV\n",
    "from sklearn.linear_model import Ridge\n",
    "from sklearn.metrics import mean_squared_error\n",
    "from sklearn.preprocessing import StandardScaler\n",
    "from sklearn.preprocessing import MinMaxScaler\n",
    "from sklearn.pipeline import Pipeline\n",
    "from sklearn.linear_model import RidgeCV\n",
    "from sklearn.svm import SVR\n",
    "from sklearn.neural_network import MLPRegressor"
   ]
  },
  {
   "cell_type": "code",
   "execution_count": 122,
   "metadata": {},
   "outputs": [],
   "source": [
    "def my_transformation(feature_matrix: np.ndarray):\n",
    "    new_feature_matrix = np.zeros((feature_matrix.shape[0], 5))\n",
    "    new_feature_matrix[:, 0] = feature_matrix[:, 0]\n",
    "    new_feature_matrix[:, 1] = feature_matrix[:, 1]\n",
    "    new_feature_matrix[:, 2] = feature_matrix[:, 0] * feature_matrix[:, 0]\n",
    "    new_feature_matrix[:, 3] = feature_matrix[:, 1] * feature_matrix[:, 1]\n",
    "    new_feature_matrix[:, 4] = feature_matrix[:, 0] * feature_matrix[:, 1]\n",
    "    return new_feature_matrix"
   ]
  },
  {
   "cell_type": "code",
   "execution_count": 123,
   "metadata": {},
   "outputs": [],
   "source": [
    "data_tr = my_transformation(data)"
   ]
  },
  {
   "cell_type": "code",
   "execution_count": 124,
   "metadata": {},
   "outputs": [
    {
     "data": {
      "text/plain": [
       "(800, 7)"
      ]
     },
     "execution_count": 124,
     "metadata": {},
     "output_type": "execute_result"
    }
   ],
   "source": [
    "data.shape"
   ]
  },
  {
   "cell_type": "code",
   "execution_count": 125,
   "metadata": {},
   "outputs": [
    {
     "data": {
      "text/plain": [
       "(800, 5)"
      ]
     },
     "execution_count": 125,
     "metadata": {},
     "output_type": "execute_result"
    }
   ],
   "source": [
    "data_tr.shape"
   ]
  },
  {
   "cell_type": "code",
   "execution_count": 126,
   "metadata": {},
   "outputs": [
    {
     "data": {
      "text/plain": [
       "array([[-0.56581437, -0.43054397,  0.3201459 ,  0.18536811,  0.24360796],\n",
       "       [-0.56288042, -0.05117727,  0.31683437,  0.00261911,  0.02880668],\n",
       "       [-0.56029231,  0.98737978,  0.31392747,  0.97491883, -0.5532213 ],\n",
       "       ...,\n",
       "       [-0.56082519,  0.6755995 ,  0.3145249 ,  0.45643468, -0.37889322],\n",
       "       [-0.5615423 ,  0.35020106,  0.31532975,  0.12264078, -0.19665271],\n",
       "       [-0.56452171, -0.31804566,  0.31868476,  0.10115304,  0.17954368]])"
      ]
     },
     "execution_count": 126,
     "metadata": {},
     "output_type": "execute_result"
    }
   ],
   "source": [
    "data_tr"
   ]
  },
  {
   "cell_type": "code",
   "execution_count": 127,
   "metadata": {},
   "outputs": [
    {
     "data": {
      "text/plain": [
       "array([[-0.56581437, -0.43054397, -0.56863048, ..., -0.5274203 ,\n",
       "        -0.16069121, -0.57543757],\n",
       "       [-0.56288042, -0.05117727, -0.56863048, ..., -0.50633863,\n",
       "         0.79560148, -0.57543757],\n",
       "       [-0.56029231,  0.98737978, -0.56863048, ..., -0.48119888,\n",
       "         3.24952961, -0.57543757],\n",
       "       ...,\n",
       "       [-0.56082519,  0.6755995 , -0.56863048, ..., -0.48700713,\n",
       "         2.5261829 , -0.57543757],\n",
       "       [-0.5615423 ,  0.35020106, -0.56863048, ..., -0.4942728 ,\n",
       "         1.76094455, -0.57543757],\n",
       "       [-0.56452171, -0.31804566, -0.56863048, ..., -0.51891584,\n",
       "         0.13076355, -0.57543757]])"
      ]
     },
     "execution_count": 127,
     "metadata": {},
     "output_type": "execute_result"
    }
   ],
   "source": [
    "data"
   ]
  },
  {
   "cell_type": "code",
   "execution_count": 135,
   "metadata": {},
   "outputs": [],
   "source": [
    "pipe = Pipeline([(\"scaler\", MinMaxScaler()), (\"svm\", Ridge())])\n",
    "param_grid = {'svm__alpha': [0.0001, 0.0005, 0.02, 0.01, 0.1, 0, 1, 10, 100]}\n",
    "#param_grid = {'svm__C': [0.001, 0.01, 0.1, 0.2, 1, 10, 100, 500, 1000, 950],\n",
    "#'svm__gamma': [0.001, 0.01, 0.1, 1, 10, 100]}\n",
    "#param_grid = {'svm__n_estimators': [ 100, 200, 400, 600], 'svm__min_samples_split':[5, 10, 20, 30, 40], 'svm__ccp_alpha' : [0.00001, 0.0001, 0.001, 0.01]}"
   ]
  },
  {
   "cell_type": "code",
   "execution_count": 136,
   "metadata": {},
   "outputs": [
    {
     "name": "stdout",
     "output_type": "stream",
     "text": [
      "Fitting 5 folds for each of 9 candidates, totalling 45 fits\n",
      "[CV 1/5; 1/9] START svm__alpha=0.0001...........................................\n",
      "[CV 1/5; 1/9] END ...........svm__alpha=0.0001;, score=-0.099 total time=   0.0s\n",
      "[CV 2/5; 1/9] START svm__alpha=0.0001...........................................\n",
      "[CV 2/5; 1/9] END ...........svm__alpha=0.0001;, score=-0.084 total time=   0.0s\n",
      "[CV 3/5; 1/9] START svm__alpha=0.0001...........................................\n",
      "[CV 3/5; 1/9] END ...........svm__alpha=0.0001;, score=-0.082 total time=   0.0s\n",
      "[CV 4/5; 1/9] START svm__alpha=0.0001...........................................\n",
      "[CV 4/5; 1/9] END ...........svm__alpha=0.0001;, score=-0.092 total time=   0.0s\n",
      "[CV 5/5; 1/9] START svm__alpha=0.0001...........................................\n",
      "[CV 5/5; 1/9] END ...........svm__alpha=0.0001;, score=-0.100 total time=   0.0s\n",
      "[CV 1/5; 2/9] START svm__alpha=0.0005...........................................\n",
      "[CV 1/5; 2/9] END ...........svm__alpha=0.0005;, score=-0.099 total time=   0.0s\n",
      "[CV 2/5; 2/9] START svm__alpha=0.0005...........................................\n",
      "[CV 2/5; 2/9] END ...........svm__alpha=0.0005;, score=-0.084 total time=   0.0s\n",
      "[CV 3/5; 2/9] START svm__alpha=0.0005...........................................\n",
      "[CV 3/5; 2/9] END ...........svm__alpha=0.0005;, score=-0.082 total time=   0.0s\n",
      "[CV 4/5; 2/9] START svm__alpha=0.0005...........................................\n",
      "[CV 4/5; 2/9] END ...........svm__alpha=0.0005;, score=-0.092 total time=   0.0s\n",
      "[CV 5/5; 2/9] START svm__alpha=0.0005...........................................\n",
      "[CV 5/5; 2/9] END ...........svm__alpha=0.0005;, score=-0.100 total time=   0.0s\n",
      "[CV 1/5; 3/9] START svm__alpha=0.02.............................................\n",
      "[CV 1/5; 3/9] END .............svm__alpha=0.02;, score=-0.099 total time=   0.0s\n",
      "[CV 2/5; 3/9] START svm__alpha=0.02.............................................\n",
      "[CV 2/5; 3/9] END .............svm__alpha=0.02;, score=-0.084 total time=   0.0s\n",
      "[CV 3/5; 3/9] START svm__alpha=0.02.............................................\n",
      "[CV 3/5; 3/9] END .............svm__alpha=0.02;, score=-0.082 total time=   0.0s\n",
      "[CV 4/5; 3/9] START svm__alpha=0.02.............................................\n",
      "[CV 4/5; 3/9] END .............svm__alpha=0.02;, score=-0.091 total time=   0.0s\n",
      "[CV 5/5; 3/9] START svm__alpha=0.02.............................................\n",
      "[CV 5/5; 3/9] END .............svm__alpha=0.02;, score=-0.100 total time=   0.0s\n",
      "[CV 1/5; 4/9] START svm__alpha=0.01.............................................\n",
      "[CV 1/5; 4/9] END .............svm__alpha=0.01;, score=-0.099 total time=   0.0s\n",
      "[CV 2/5; 4/9] START svm__alpha=0.01.............................................\n",
      "[CV 2/5; 4/9] END .............svm__alpha=0.01;, score=-0.084 total time=   0.0s\n",
      "[CV 3/5; 4/9] START svm__alpha=0.01.............................................\n",
      "[CV 3/5; 4/9] END .............svm__alpha=0.01;, score=-0.082 total time=   0.0s\n",
      "[CV 4/5; 4/9] START svm__alpha=0.01.............................................\n",
      "[CV 4/5; 4/9] END .............svm__alpha=0.01;, score=-0.092 total time=   0.0s\n",
      "[CV 5/5; 4/9] START svm__alpha=0.01.............................................\n",
      "[CV 5/5; 4/9] END .............svm__alpha=0.01;, score=-0.100 total time=   0.0s\n",
      "[CV 1/5; 5/9] START svm__alpha=0.1..............................................\n",
      "[CV 1/5; 5/9] END ..............svm__alpha=0.1;, score=-0.099 total time=   0.0s\n",
      "[CV 2/5; 5/9] START svm__alpha=0.1..............................................\n",
      "[CV 2/5; 5/9] END ..............svm__alpha=0.1;, score=-0.085 total time=   0.0s\n",
      "[CV 3/5; 5/9] START svm__alpha=0.1..............................................\n",
      "[CV 3/5; 5/9] END ..............svm__alpha=0.1;, score=-0.081 total time=   0.0s\n",
      "[CV 4/5; 5/9] START svm__alpha=0.1..............................................\n",
      "[CV 4/5; 5/9] END ..............svm__alpha=0.1;, score=-0.090 total time=   0.0s\n",
      "[CV 5/5; 5/9] START svm__alpha=0.1..............................................\n",
      "[CV 5/5; 5/9] END ..............svm__alpha=0.1;, score=-0.101 total time=   0.0s\n",
      "[CV 1/5; 6/9] START svm__alpha=0................................................\n",
      "[CV 1/5; 6/9] END ................svm__alpha=0;, score=-0.099 total time=   0.0s\n",
      "[CV 2/5; 6/9] START svm__alpha=0................................................\n",
      "[CV 2/5; 6/9] END ................svm__alpha=0;, score=-0.084 total time=   0.0s\n",
      "[CV 3/5; 6/9] START svm__alpha=0................................................\n",
      "[CV 3/5; 6/9] END ................svm__alpha=0;, score=-0.082 total time=   0.0s\n",
      "[CV 4/5; 6/9] START svm__alpha=0................................................\n",
      "[CV 4/5; 6/9] END ................svm__alpha=0;, score=-0.093 total time=   0.0s\n",
      "[CV 5/5; 6/9] START svm__alpha=0................................................\n",
      "[CV 5/5; 6/9] END ................svm__alpha=0;, score=-0.100 total time=   0.0s\n",
      "[CV 1/5; 7/9] START svm__alpha=1................................................\n",
      "[CV 1/5; 7/9] END ................svm__alpha=1;, score=-0.106 total time=   0.0s\n",
      "[CV 2/5; 7/9] START svm__alpha=1................................................\n",
      "[CV 2/5; 7/9] END ................svm__alpha=1;, score=-0.092 total time=   0.0s\n",
      "[CV 3/5; 7/9] START svm__alpha=1................................................\n",
      "[CV 3/5; 7/9] END ................svm__alpha=1;, score=-0.082 total time=   0.0s\n",
      "[CV 4/5; 7/9] START svm__alpha=1................................................\n",
      "[CV 4/5; 7/9] END ................svm__alpha=1;, score=-0.088 total time=   0.0s\n",
      "[CV 5/5; 7/9] START svm__alpha=1................................................\n",
      "[CV 5/5; 7/9] END ................svm__alpha=1;, score=-0.108 total time=   0.0s\n",
      "[CV 1/5; 8/9] START svm__alpha=10...............................................\n",
      "[CV 1/5; 8/9] END ...............svm__alpha=10;, score=-0.122 total time=   0.0s\n",
      "[CV 2/5; 8/9] START svm__alpha=10...............................................\n",
      "[CV 2/5; 8/9] END ...............svm__alpha=10;, score=-0.108 total time=   0.0s\n",
      "[CV 3/5; 8/9] START svm__alpha=10...............................................\n",
      "[CV 3/5; 8/9] END ...............svm__alpha=10;, score=-0.098 total time=   0.0s\n",
      "[CV 4/5; 8/9] START svm__alpha=10...............................................\n",
      "[CV 4/5; 8/9] END ...............svm__alpha=10;, score=-0.099 total time=   0.0s\n",
      "[CV 5/5; 8/9] START svm__alpha=10...............................................\n",
      "[CV 5/5; 8/9] END ...............svm__alpha=10;, score=-0.124 total time=   0.0s\n",
      "[CV 1/5; 9/9] START svm__alpha=100..............................................\n",
      "[CV 1/5; 9/9] END ..............svm__alpha=100;, score=-0.596 total time=   0.0s\n",
      "[CV 2/5; 9/9] START svm__alpha=100..............................................\n",
      "[CV 2/5; 9/9] END ..............svm__alpha=100;, score=-0.599 total time=   0.0s\n",
      "[CV 3/5; 9/9] START svm__alpha=100..............................................\n",
      "[CV 3/5; 9/9] END ..............svm__alpha=100;, score=-0.600 total time=   0.0s\n",
      "[CV 4/5; 9/9] START svm__alpha=100..............................................\n",
      "[CV 4/5; 9/9] END ..............svm__alpha=100;, score=-0.518 total time=   0.0s\n",
      "[CV 5/5; 9/9] START svm__alpha=100..............................................\n",
      "[CV 5/5; 9/9] END ..............svm__alpha=100;, score=-0.602 total time=   0.0s\n",
      "train mse =\t 0.08983\n"
     ]
    }
   ],
   "source": [
    "grid = GridSearchCV(pipe,param_grid=param_grid, cv=5, verbose=10, scoring= 'neg_mean_squared_error')\n",
    "grid.fit(data_tr, target)\n",
    "print(\n",
    "    f'train mse =\\t {mean_squared_error(np.round(grid.best_estimator_.predict(data_tr), 2), np.round(target, 2)):.5f}',\n",
    ")"
   ]
  },
  {
   "cell_type": "markdown",
   "metadata": {},
   "source": [
    "### Модель №1\n",
    "Напоминаем, в первой части задания ваша основная задача – получить наилучший результат без ограничений на модель. Сдаваться будут только предсказания модели.\n",
    "\n",
    "Пример с использованием Random Forest доступен ниже."
   ]
  },
  {
   "cell_type": "code",
   "execution_count": 137,
   "metadata": {},
   "outputs": [
    {
     "data": {
      "text/plain": [
       "-0.09111302285134455"
      ]
     },
     "execution_count": 137,
     "metadata": {},
     "output_type": "execute_result"
    }
   ],
   "source": [
    "grid.best_score_"
   ]
  },
  {
   "cell_type": "code",
   "execution_count": 138,
   "metadata": {},
   "outputs": [
    {
     "data": {
      "text/plain": [
       "{'svm__alpha': 0.02}"
      ]
     },
     "execution_count": 138,
     "metadata": {},
     "output_type": "execute_result"
    }
   ],
   "source": [
    "grid.best_params_"
   ]
  },
  {
   "cell_type": "markdown",
   "metadata": {},
   "source": [
    "##### Сдача первой части соревнования\n",
    "Загрузите файл `hw_final_closed_data.npy` (ссылка есть на странице с заданием). Если вы используете sklearn-совместимую модель, для генерации посылки вы можете воспользоваться функцией `get_predictions`. В ином случае перепишите функцию для вашей модели и запустите код под следующей ячейкой для генерации посылки."
   ]
  },
  {
   "cell_type": "code",
   "execution_count": 72,
   "metadata": {},
   "outputs": [],
   "source": [
    "assert os.path.exists('hw_final_closed_data.npy'), 'Please, download `hw_final_closed_data.npy` and place it in the working directory'\n",
    "closed_data = np.load('hw_final_closed_data.npy', allow_pickle=False)"
   ]
  },
  {
   "cell_type": "markdown",
   "metadata": {},
   "source": [
    "Если необходимо, преобразуйте данные. Преобразованную матрицу объект-признак сохраните в переменную `closed_data`."
   ]
  },
  {
   "cell_type": "code",
   "execution_count": 10,
   "metadata": {},
   "outputs": [],
   "source": [
    "# optional transformations"
   ]
  },
  {
   "cell_type": "code",
   "execution_count": 75,
   "metadata": {},
   "outputs": [],
   "source": [
    "def get_predictions(model, eval_data, step=10):\n",
    "    predicted_values = model.predict(my_transformation(eval_data))\n",
    "    return predicted_values"
   ]
  },
  {
   "cell_type": "markdown",
   "metadata": {},
   "source": [
    "Обращаем ваше внимание, предсказания округляются до сотых!"
   ]
  },
  {
   "cell_type": "code",
   "execution_count": 76,
   "metadata": {},
   "outputs": [],
   "source": [
    "predicted_values = np.round(get_predictions(model=grid.best_estimator_, eval_data=closed_data), 2)\n",
    "\n",
    "assert predicted_values.shape == (closed_data.shape[0], ) # predictions should be just one-dimensional array"
   ]
  },
  {
   "cell_type": "code",
   "execution_count": 77,
   "metadata": {},
   "outputs": [
    {
     "name": "stdout",
     "output_type": "stream",
     "text": [
      "File saved to `submission_dict_final_p01.npy`\n"
     ]
    }
   ],
   "source": [
    "# do not change the code in the block below\n",
    "# __________start of block__________\n",
    "def float_list_to_comma_separated_str(_list):\n",
    "    _list = list(np.round(np.array(_list), 2))\n",
    "    return ','.join([str(x) for x in _list])\n",
    "\n",
    "submission_dict = {\n",
    "    'predictions': float_list_to_comma_separated_str(predicted_values)\n",
    "}\n",
    "with open('submission_dict_final_p01.json', 'w') as iofile:\n",
    "    json.dump(submission_dict, iofile)\n",
    "    \n",
    "print('File saved to `submission_dict_final_p01.npy`')\n",
    "# __________end of block__________"
   ]
  },
  {
   "cell_type": "markdown",
   "metadata": {},
   "source": [
    "### Модель №2\n",
    "Функция `my_transformation` принимает на вход матрицу объект-признак (`numpy.ndarray` типа `np.float`) и преобразует ее в новую матрицу. Данная функция может использовать только numpy-операции, а также арифметические действия.\n",
    "\n",
    "Для примера доступна функция ниже. Она лишь добавляет новый признак, представляющий собой произведение первого и второго исходных признаков (считая с нуля)."
   ]
  },
  {
   "cell_type": "code",
   "execution_count": 32,
   "metadata": {},
   "outputs": [],
   "source": [
    "def my_transformation(feature_matrix: np.ndarray):\n",
    "    new_feature_matrix = np.zeros((feature_matrix.shape[0], feature_matrix.shape[1]+3))\n",
    "    new_feature_matrix[:, :feature_matrix.shape[1]] = feature_matrix\n",
    "    new_feature_matrix[:, -1] = feature_matrix[:, 0] * feature_matrix[:, 1]\n",
    "    new_feature_matrix[:, -2] = feature_matrix[:, 0] * feature_matrix[:, 0]\n",
    "    new_feature_matrix[:, -3] = feature_matrix[:, 1] * feature_matrix[:, 1]\n",
    "    return new_feature_matrix"
   ]
  },
  {
   "cell_type": "code",
   "execution_count": 33,
   "metadata": {},
   "outputs": [],
   "source": [
    "transformed_train_x = my_transformation(train_x)\n"
   ]
  },
  {
   "cell_type": "code",
   "execution_count": 34,
   "metadata": {},
   "outputs": [
    {
     "data": {
      "text/plain": [
       "(560, 7)"
      ]
     },
     "execution_count": 34,
     "metadata": {},
     "output_type": "execute_result"
    }
   ],
   "source": [
    "train_x.shape"
   ]
  },
  {
   "cell_type": "code",
   "execution_count": 35,
   "metadata": {},
   "outputs": [
    {
     "data": {
      "text/plain": [
       "(560, 10)"
      ]
     },
     "execution_count": 35,
     "metadata": {},
     "output_type": "execute_result"
    }
   ],
   "source": [
    "transformed_train_x.shape"
   ]
  },
  {
   "cell_type": "code",
   "execution_count": 36,
   "metadata": {},
   "outputs": [
    {
     "data": {
      "text/plain": [
       "array([[-0.56384076, -0.22893074, -0.56863048, ...,  0.05240928,\n",
       "         0.3179164 ,  0.12908048],\n",
       "       [-0.56513085, -0.37874372, -0.56863048, ...,  0.14344681,\n",
       "         0.31937288,  0.21403976],\n",
       "       [-0.56031899,  0.97010124, -0.56863048, ...,  0.94109642,\n",
       "         0.31395738, -0.54356615],\n",
       "       ...,\n",
       "       [-0.56002219,  1.17328206, -0.56863048, ...,  1.37659079,\n",
       "         0.31362485, -0.65706398],\n",
       "       [-0.56114558,  0.51835652, -0.56863048, ...,  0.26869348,\n",
       "         0.31488436, -0.29087347],\n",
       "       [-0.56705232, -0.49317654, -0.56863048, ...,  0.2432231 ,\n",
       "         0.32154833,  0.2796569 ]])"
      ]
     },
     "execution_count": 36,
     "metadata": {},
     "output_type": "execute_result"
    }
   ],
   "source": [
    "transformed_train_x"
   ]
  },
  {
   "cell_type": "code",
   "execution_count": 37,
   "metadata": {},
   "outputs": [
    {
     "name": "stdout",
     "output_type": "stream",
     "text": [
      "train mse =\t 0.08342\n",
      "validation mse = 0.10502\n"
     ]
    }
   ],
   "source": [
    "lr = RidgeCV(alphas=(0.001, 0.01, 0.1, 1.0, 10.0), scoring='neg_mean_squared_error', cv=5)\n",
    "lr.fit(transformed_train_x, train_y)\n",
    "\n",
    "print(\n",
    "    f'train mse =\\t {mean_squared_error(lr.predict(transformed_train_x), train_y):.5f}',\n",
    "    f'validation mse = {mean_squared_error(lr.predict(my_transformation(valid_x)), valid_y):.5f}',\n",
    "    sep='\\n'\n",
    ")"
   ]
  },
  {
   "cell_type": "code",
   "execution_count": 106,
   "metadata": {},
   "outputs": [],
   "source": [
    "import pandas as pd\n",
    "import seaborn as sns"
   ]
  },
  {
   "cell_type": "code",
   "execution_count": 107,
   "metadata": {},
   "outputs": [
    {
     "data": {
      "text/plain": [
       "<AxesSubplot:>"
      ]
     },
     "execution_count": 107,
     "metadata": {},
     "output_type": "execute_result"
    },
    {
     "data": {
      "image/png": "[encoded data removed]",
      "text/plain": [
       "<Figure size 1440x1440 with 2 Axes>"
      ]
     },
     "metadata": {
      "needs_background": "light"
     },
     "output_type": "display_data"
    }
   ],
   "source": [
    "cr = pd.DataFrame(data)\n",
    "plt.figure(figsize=[20,20])\n",
    "sns.heatmap(cr.corr(), cmap = 'YlOrRd')"
   ]
  },
  {
   "cell_type": "markdown",
   "metadata": {},
   "source": [
    "Обращаем ваше внимание, что параметры линейной модели будут округляться до __четырех знаков после запятой__. Это не должно сильно повлиять на качество предсказаний:"
   ]
  },
  {
   "cell_type": "code",
   "execution_count": 38,
   "metadata": {},
   "outputs": [],
   "source": [
    "original_predictions = lr.predict(transformed_train_x)\n",
    "rounded_predictions = transformed_train_x.dot(np.round(lr.coef_, 4)) + np.round(lr.intercept_, 4)\n",
    "\n",
    "\n",
    "assert np.allclose(original_predictions, rounded_predictions, atol=1e-3)"
   ]
  },
  {
   "cell_type": "markdown",
   "metadata": {},
   "source": [
    "Параметры вашей модели:"
   ]
  },
  {
   "cell_type": "code",
   "execution_count": 39,
   "metadata": {},
   "outputs": [
    {
     "name": "stdout",
     "output_type": "stream",
     "text": [
      "w = [0.0359, 0.3462, 0.0, 0.9484, 0.1899, 1.3855, 0.0, -0.086, -0.0407, -0.2226]\n",
      "b = 1.6385\n"
     ]
    }
   ],
   "source": [
    "w_list = list(np.round(lr.coef_, 4))\n",
    "print(f'w = {list(np.round(lr.coef_, 4))}\\nb = {np.round(lr.intercept_, 4)}')"
   ]
  },
  {
   "cell_type": "markdown",
   "metadata": {},
   "source": [
    "Напоминаем, ваша модель не должна использовать более 15 параметров (14 весов плюс свободный член)."
   ]
  },
  {
   "cell_type": "code",
   "execution_count": 19,
   "metadata": {},
   "outputs": [],
   "source": [
    "assert len(w_list) + 1 <= 15"
   ]
  },
  {
   "cell_type": "markdown",
   "metadata": {},
   "source": [
    "##### Сдача второй части соревнования\n",
    "Для сдачи вам достаточно отправить функцию `my_transformation` и параметры вашей модели в контест в задачу №2. Пример посылки доступен ниже. Имортирование `numpy` также необходимо."
   ]
  },
  {
   "cell_type": "code",
   "execution_count": 41,
   "metadata": {},
   "outputs": [],
   "source": [
    "# __________example_submission_start__________\n",
    "import numpy as np\n",
    "def my_transformation(feature_matrix: np.ndarray):\n",
    "    new_feature_matrix = np.zeros((feature_matrix.shape[0], feature_matrix.shape[1]+3))\n",
    "    new_feature_matrix[:, :feature_matrix.shape[1]] = feature_matrix\n",
    "    new_feature_matrix[:, -1] = feature_matrix[:, 0] * feature_matrix[:, 1]\n",
    "    new_feature_matrix[:, -2] = feature_matrix[:, 0] * feature_matrix[:, 0]\n",
    "    new_feature_matrix[:, -3] = feature_matrix[:, 1] * feature_matrix[:, 1]\n",
    "    return new_feature_matrix\n",
    "\n",
    "w_submission = [0.0359, 0.3462, 0.0, 0.9484, 0.1899, 1.3855, 0.0, -0.086, -0.0407, -0.2226]\n",
    "b_submission = 1.6385\n",
    "# __________example_submission_end__________"
   ]
  },
  {
   "cell_type": "markdown",
   "metadata": {},
   "source": [
    "На этом задание завершено. Поздравляем!"
   ]
  }
 ],
 "metadata": {
  "kernelspec": {
   "display_name": "Python 3 (ipykernel)",
   "language": "python",
   "name": "python3"
  },
  "language_info": {
   "codemirror_mode": {
    "name": "ipython",
    "version": 3
   },
   "file_extension": ".py",
   "mimetype": "text/x-python",
   "name": "python",
   "nbconvert_exporter": "python",
   "pygments_lexer": "ipython3",
   "version": "3.10.9"
  }
 },
 "nbformat": 4,
 "nbformat_minor": 4
}
